{
 "cells": [
  {
   "cell_type": "markdown",
   "metadata": {},
   "source": [
    "The files for MC and data come in the root format (see https://root.cern.ch in case you want more information). root is a powerful analysis framework widely used in particle physics. If you intend to get a final year project in particle physics, any time spent in learning a bit of it is time well spent. You may want to look at the examples using root and pyROOT if you want to do that. Otherwise uproot is a nice tool (https://uproot.readthedocs.io/en/latest/) to completely decouple from root and do your experiment with tools that you are familiar with.   "
   ]
  },
  {
   "cell_type": "code",
   "execution_count": 1,
   "metadata": {},
   "outputs": [],
   "source": [
    "import uproot"
   ]
  },
  {
   "cell_type": "markdown",
   "metadata": {},
   "source": [
    "The next line is needed to tell the code where the input files can be found."
   ]
  },
  {
   "cell_type": "code",
   "execution_count": 2,
   "metadata": {},
   "outputs": [],
   "source": [
    "tuple_path = \"https://atlas-opendata.web.cern.ch/atlas-opendata/samples/2020\""
   ]
  },
  {
   "cell_type": "markdown",
   "metadata": {},
   "source": [
    "You can actually inspect the URL above. You will see there are many directories, depending on the final state one wants to look at (2 leptons, 3 leptons, etc.). In this example we will focus on the 4 lepton processes.\n"
   ]
  },
  {
   "cell_type": "code",
   "execution_count": 3,
   "metadata": {},
   "outputs": [],
   "source": [
    "final_state = \"4lep\""
   ]
  },
  {
   "cell_type": "markdown",
   "metadata": {},
   "source": [
    "Please look into the 4lep directory, you will see two further directories: \"Data\" and \"MC\". \"Data\" contains real collisions with four leptons. \"MC\" contains simulated collisions. For the \"MC\" directory you will see that several files are there, containing different physics processes. The following lines allow opening the root file. We open a random file for the moment. Please refer to the experiment handbook to understand the physics part of the project. Please be patient. Depending on your connection and on your hardware, this can take a bit. You can also download the files locally if your connection isn't too good. "
   ]
  },
  {
   "cell_type": "code",
   "execution_count": 4,
   "metadata": {},
   "outputs": [
    {
     "name": "stdout",
     "output_type": "stream",
     "text": [
      "There are  554279  events in file  https://atlas-opendata.web.cern.ch/atlas-opendata/samples/2020/4lep/MC/mc_363490.llll.4lep.root\n"
     ]
    }
   ],
   "source": [
    "fileString = tuple_path+ '/' +  final_state + \"/MC/mc_363490.llll.4lep.root\"\n",
    "mc = uproot.open(fileString)[\"mini\"]\n",
    "nEvents = uproot.numentries(fileString, \"mini\")\n",
    "print (\"There are \", nEvents, \" events in file \", fileString)"
   ]
  },
  {
   "cell_type": "markdown",
   "metadata": {},
   "source": [
    "Each event in the object named \"mc\" corresponds to a proton-proton collision event. For each event there are a number of numerical properties attached, that can be used to, e.g., select only events that one wants, combine variables to obtain new variables, etc. Let's print what are the properties that are available. Since the list is not short, to avoid cluttering the output, only variables containing the string \"lep\" in the name are printed. Please remove the filter if you want to see all variables. The 'b' in front of the name just tells you that the object is a variable. For those that want to know more, 'b' stands for 'branch': that is the original name in ROOT."
   ]
  },
  {
   "cell_type": "code",
   "execution_count": 5,
   "metadata": {},
   "outputs": [
    {
     "name": "stdout",
     "output_type": "stream",
     "text": [
      "b'lep_n'\n",
      "b'lep_truthMatched'\n",
      "b'lep_trigMatched'\n",
      "b'lep_pt'\n",
      "b'lep_eta'\n",
      "b'lep_phi'\n",
      "b'lep_E'\n",
      "b'lep_z0'\n",
      "b'lep_charge'\n",
      "b'lep_type'\n",
      "b'lep_isTightID'\n",
      "b'lep_ptcone30'\n",
      "b'lep_etcone20'\n",
      "b'lep_trackd0pvunbiased'\n",
      "b'lep_tracksigd0pvunbiased'\n",
      "b'lep_pt_syst'\n"
     ]
    }
   ],
   "source": [
    "def filter_lep(name):\n",
    "    if str(name).find(\"lep\") > 0:\n",
    "        return True\n",
    "    return False\n",
    "\n",
    "for event_variable in mc.keys(filtername=filter_lep):\n",
    "    print(event_variable)"
   ]
  },
  {
   "cell_type": "markdown",
   "metadata": {},
   "source": [
    "Now let's reduce the number of events to those that have four or more leptons, and let's ask that the pt of all four leading leptons is larger than 20 GeV. Note that the units in the root file are MeV. First we may prepare some selection function:"
   ]
  },
  {
   "cell_type": "code",
   "execution_count": 6,
   "metadata": {},
   "outputs": [],
   "source": [
    "def cut_nlep(nlep):\n",
    "    return nlep < 4\n",
    "def cut_ptlep(lep_pt):\n",
    "    return lep_pt[0] < 20000 or lep_pt[1] < 20000 or lep_pt[2] < 20000 or lep_pt[3] < 20000"
   ]
  },
  {
   "cell_type": "markdown",
   "metadata": {},
   "source": [
    "Next we loop over our events and apply the selection. We will be working on the variables lep_n and lep_pt for the selection, and we wll need mcWeight, scalefactor_* to compute MC event weights. See the handbook to understand the need for the event weights a bit better."
   ]
  },
  {
   "cell_type": "code",
   "execution_count": 55,
   "metadata": {},
   "outputs": [],
   "source": [
    "#### we use pandas as output of the \"iterate\" call\n",
    "\n",
    "import pandas as pd\n",
    "import numpy as np\n",
    "\n",
    "# Let's create an empty DataFrame that will contain the events surviving the selection\n",
    "\n",
    "my_sel_events = pd.DataFrame()\n",
    "\n",
    "#### This will compute the total weight. In a similar way you can add any other variable to the DataFrame\n",
    "\n",
    "def calc_weight(mcWeight,scaleFactor_PILEUP,scaleFactor_ELE,\n",
    "                scaleFactor_MUON, scaleFactor_LepTRIGGER):\n",
    "    return mcWeight*scaleFactor_PILEUP*scaleFactor_ELE*scaleFactor_MUON*scaleFactor_LepTRIGGER\n",
    "\n",
    "#### This will store the eta of the first lepton for plotting later\n",
    "\n",
    "def eta_l1(eta_lep):\n",
    "    return eta_lep[0]\n",
    "\n",
    "for myevents in mc.iterate([\"lep_n\",\"lep_pt\",\"lep_eta\",\"mcWeight\",\"scaleFactor_PILEUP\",\"scaleFactor_ELE\",\"scaleFactor_MUON\",\"scaleFactor_LepTRIGGER\"], flatten=False, entrysteps=2500000, outputtype=pd.DataFrame, entrystop=nEvents):\n",
    "    # we add a variable to the DataFrame\n",
    "    myevents['totalWeight'] = np.vectorize(calc_weight)(myevents.mcWeight,myevents.scaleFactor_PILEUP,myevents.scaleFactor_ELE,myevents.scaleFactor_MUON,myevents.scaleFactor_LepTRIGGER)    \n",
    "    myevents['lep1_eta'] = np.vectorize(eta_l1)(myevents.lep_eta)\n",
    "\n",
    "### now we don't need part of the information any longer, let's drop it\n",
    "\n",
    "    myevents.drop([\"mcWeight\",\"scaleFactor_PILEUP\",\"scaleFactor_ELE\",\"scaleFactor_MUON\",\"scaleFactor_LepTRIGGER\"], axis=1, inplace=True)\n",
    "\n",
    "##### Now we apply our cuts and drop events accordingly\n",
    "\n",
    "    fail=myevents[ np.vectorize(cut_nlep)(myevents.lep_n)].index\n",
    "    myevents.drop(fail, inplace=True)\n",
    "    \n",
    "    fail=myevents[ np.vectorize(cut_ptlep)(myevents.lep_pt)].index\n",
    "    myevents.drop(fail, inplace=True)\n",
    "    \n",
    "    my_sel_events = my_sel_events.append(myevents)\n",
    "\n",
    "\n"
   ]
  },
  {
   "cell_type": "markdown",
   "metadata": {},
   "source": [
    "Let's now plot the leading lepton pseudorapidity. The histogram will be from -3 to 3, in bins with a 0.2 width, so a total of 30 bins. The \"round\" instructions is just to avoid numerical precision issues (e.g. -1.99999999999 instead of -2)"
   ]
  },
  {
   "cell_type": "markdown",
   "metadata": {},
   "source": [
    "Now onto plotting "
   ]
  },
  {
   "cell_type": "code",
   "execution_count": 67,
   "metadata": {},
   "outputs": [
    {
     "data": {
      "image/png": "[encoded data removed]",
      "text/plain": [
       "<Figure size 432x288 with 1 Axes>"
      ]
     },
     "metadata": {
      "needs_background": "light"
     },
     "output_type": "display_data"
    }
   ],
   "source": [
    "bins = [round(-3 + x*0.2,2) for x in range(0,30) ]\n",
    "import matplotlib.pyplot as plt\n",
    "plt.clf()\n",
    "plt.axes([0.1,0.3,0.85,0.65]) #(left, bottom, width, height)\n",
    "main_axes = plt.gca()\n",
    "mc_heights = main_axes.hist(my_sel_events['lep1_eta'].values,bins=bins,weights=my_sel_events.totalWeight.values, label=\"my histogram\")"
   ]
  }
 ],
 "metadata": {
  "kernelspec": {
   "display_name": "Python 3",
   "language": "python",
   "name": "python3"
  },
  "language_info": {
   "codemirror_mode": {
    "name": "ipython",
    "version": 3
   },
   "file_extension": ".py",
   "mimetype": "text/x-python",
   "name": "python",
   "nbconvert_exporter": "python",
   "pygments_lexer": "ipython3",
   "version": "3.7.6"
  }
 },
 "nbformat": 4,
 "nbformat_minor": 4
}
